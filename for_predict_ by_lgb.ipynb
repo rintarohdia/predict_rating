{
 "cells": [
  {
   "cell_type": "code",
   "execution_count": 12,
   "id": "adbe9800",
   "metadata": {},
   "outputs": [
    {
     "data": {
      "text/html": [
       "<div>\n",
       "<style scoped>\n",
       "    .dataframe tbody tr th:only-of-type {\n",
       "        vertical-align: middle;\n",
       "    }\n",
       "\n",
       "    .dataframe tbody tr th {\n",
       "        vertical-align: top;\n",
       "    }\n",
       "\n",
       "    .dataframe thead th {\n",
       "        text-align: right;\n",
       "    }\n",
       "</style>\n",
       "<table border=\"1\" class=\"dataframe\">\n",
       "  <thead>\n",
       "    <tr style=\"text-align: right;\">\n",
       "      <th></th>\n",
       "      <th>Mark</th>\n",
       "      <th>Company name</th>\n",
       "      <th>0</th>\n",
       "    </tr>\n",
       "  </thead>\n",
       "  <tbody>\n",
       "    <tr>\n",
       "      <th>0</th>\n",
       "      <td>1</td>\n",
       "      <td>JAPAN REAL ESTATE INVESTMENT CORP</td>\n",
       "      <td>13.757251</td>\n",
       "    </tr>\n",
       "  </tbody>\n",
       "</table>\n",
       "</div>"
      ],
      "text/plain": [
       "   Mark                       Company name          0\n",
       "0     1  JAPAN REAL ESTATE INVESTMENT CORP  13.757251"
      ]
     },
     "execution_count": 12,
     "metadata": {},
     "output_type": "execute_result"
    }
   ],
   "source": [
    "from flask import Flask, request,jsonify, Response\n",
    "\n",
    "import joblib\n",
    "from sklearn.decomposition import PCA\n",
    "from sklearn.preprocessing import StandardScaler\n",
    "import lightgbm as lgb\n",
    "import numpy as np\n",
    "import pandas as pd\n",
    "import io\n",
    "import csv\n",
    "import json\n",
    "\n",
    "app = Flask(__name__)\n",
    "\n",
    "# 保存された正規化モデルを読み込む\n",
    "scaler = joblib.load('scaler.pkl')\n",
    "\n",
    "# 保存されたPCAモデルを読み込む\n",
    "pca_model = joblib.load('pca_model100.pkl')\n",
    "\n",
    "model = lgb.Booster(model_file='lgbmodel')\n",
    "\n",
    "# CSVデータを読み込む\n",
    "df = pd.read_csv(\"test6.txt\", sep='\\t', encoding='utf-16')#ここのファイル名を変更してください\n",
    "tags=df[[\"Mark\",\"Company name\"]]\n",
    "df = df.applymap(lambda x: str(x).replace(',', ''))  # カンマを削除\n",
    "\n",
    "df=df.drop([\"Mark\",\"Company name\"],axis=1)\n",
    "\n",
    "    \n",
    "df=df.replace(\"n.a.\",np.float32(0.0))\n",
    "df=df.replace(\",\",\"\")\n",
    "\n",
    "df=df.astype(\"float32\")\n",
    "\n",
    "\n",
    "    \n",
    "# データを正規化する\n",
    "standalized_df = pd.DataFrame(scaler.transform(df),columns=df.columns)\n",
    "\n",
    "    \n",
    "\n",
    "# データをPCAモデルに適用して、次元を削減する\n",
    "pca_data = pca_model.transform(standalized_df)\n",
    "pca_df = pd.DataFrame(pca_data)\n",
    "\n",
    "\n",
    "# モデルを使用して予測を行う\n",
    "predictions = model.predict(pca_df.values)\n",
    "    \n",
    "predicted=pd.concat([tags,pd.DataFrame(predictions)],axis=1)\n",
    "\n",
    "\n",
    "predicted    "
   ]
  },
  {
   "cell_type": "code",
   "execution_count": 13,
   "id": "868ba99a",
   "metadata": {},
   "outputs": [],
   "source": [
    "predicted.to_csv(\"predicted.csv\")"
   ]
  },
  {
   "cell_type": "code",
   "execution_count": null,
   "id": "06bc03bf",
   "metadata": {},
   "outputs": [],
   "source": []
  }
 ],
 "metadata": {
  "kernelspec": {
   "display_name": "Python 3 (ipykernel)",
   "language": "python",
   "name": "python3"
  },
  "language_info": {
   "codemirror_mode": {
    "name": "ipython",
    "version": 3
   },
   "file_extension": ".py",
   "mimetype": "text/x-python",
   "name": "python",
   "nbconvert_exporter": "python",
   "pygments_lexer": "ipython3",
   "version": "3.8.16"
  }
 },
 "nbformat": 4,
 "nbformat_minor": 5
}
